{
 "cells": [
  {
   "cell_type": "code",
   "execution_count": 24,
   "metadata": {
    "collapsed": true
   },
   "outputs": [],
   "source": [
    "from intermine.webservice import Service\n",
    "import numpy as np\n",
    "import pandas as pd\n",
    "import csv # For saving string data to csv"
   ]
  },
  {
   "cell_type": "code",
   "execution_count": 2,
   "metadata": {
    "collapsed": true
   },
   "outputs": [],
   "source": [
    "service = Service(\"http://www.mousemine.org/mousemine/service\")"
   ]
  },
  {
   "cell_type": "code",
   "execution_count": 17,
   "metadata": {},
   "outputs": [],
   "source": [
    "MGIIDFile = \"MGI_IDs.csv\"\n",
    "with open(MGIIDFile,'rb') as f:\n",
    "    reader = csv.reader(f)\n",
    "    MGIIDList = list(reader)\n",
    "MGIIDList = [MGIIDList[x][0] for x in range(len(your_list))]"
   ]
  },
  {
   "cell_type": "code",
   "execution_count": 21,
   "metadata": {},
   "outputs": [
    {
     "name": "stdout",
     "output_type": "stream",
     "text": [
      "MGI:101757 Cfl1 12631\n",
      "MGI:101759 Syt4 20983\n",
      "MGI:101760 Sfswap 231769\n",
      "MGI:101761 Hmga2 15364\n",
      "MGI:101762 Elk3 13713\n",
      "MGI:101763 Cfl2 12632\n"
     ]
    }
   ],
   "source": [
    "MGIDict = []\n",
    "for x in [0,1,2,3,4,5]: # range(len(MGIIDList)):\n",
    "    query = service.new_query(\"Gene\")\n",
    "    query.add_view(\"primaryIdentifier\", \"ncbiGeneNumber\", \"symbol\")\n",
    "    query.add_constraint(\"primaryIdentifier\", \"=\", MGIIDList[x], code = \"A\")\n",
    "    for row in query.rows():\n",
    "        print row[\"primaryIdentifier\"], row[\"symbol\"], row[\"ncbiGeneNumber\"]\n",
    "        MGIDict.append({'MGIID':MGIIDList[x], 'symbol':row['symbol'], 'NCBIGeneNumber':row[\"ncbiGeneNumber\"]})"
   ]
  },
  {
   "cell_type": "code",
   "execution_count": 25,
   "metadata": {},
   "outputs": [
    {
     "data": {
      "text/html": [
       "<div>\n",
       "<table border=\"1\" class=\"dataframe\">\n",
       "  <thead>\n",
       "    <tr style=\"text-align: right;\">\n",
       "      <th></th>\n",
       "      <th>MGIID</th>\n",
       "      <th>NCBIGeneNumber</th>\n",
       "      <th>symbol</th>\n",
       "    </tr>\n",
       "  </thead>\n",
       "  <tbody>\n",
       "    <tr>\n",
       "      <th>0</th>\n",
       "      <td>MGI:101757</td>\n",
       "      <td>12631</td>\n",
       "      <td>Cfl1</td>\n",
       "    </tr>\n",
       "    <tr>\n",
       "      <th>1</th>\n",
       "      <td>MGI:101759</td>\n",
       "      <td>20983</td>\n",
       "      <td>Syt4</td>\n",
       "    </tr>\n",
       "    <tr>\n",
       "      <th>2</th>\n",
       "      <td>MGI:101760</td>\n",
       "      <td>231769</td>\n",
       "      <td>Sfswap</td>\n",
       "    </tr>\n",
       "    <tr>\n",
       "      <th>3</th>\n",
       "      <td>MGI:101761</td>\n",
       "      <td>15364</td>\n",
       "      <td>Hmga2</td>\n",
       "    </tr>\n",
       "    <tr>\n",
       "      <th>4</th>\n",
       "      <td>MGI:101762</td>\n",
       "      <td>13713</td>\n",
       "      <td>Elk3</td>\n",
       "    </tr>\n",
       "    <tr>\n",
       "      <th>5</th>\n",
       "      <td>MGI:101763</td>\n",
       "      <td>12632</td>\n",
       "      <td>Cfl2</td>\n",
       "    </tr>\n",
       "  </tbody>\n",
       "</table>\n",
       "</div>"
      ],
      "text/plain": [
       "        MGIID NCBIGeneNumber  symbol\n",
       "0  MGI:101757          12631    Cfl1\n",
       "1  MGI:101759          20983    Syt4\n",
       "2  MGI:101760         231769  Sfswap\n",
       "3  MGI:101761          15364   Hmga2\n",
       "4  MGI:101762          13713    Elk3\n",
       "5  MGI:101763          12632    Cfl2"
      ]
     },
     "execution_count": 25,
     "metadata": {},
     "output_type": "execute_result"
    }
   ],
   "source": [
    "pd.DataFrame(d)"
   ]
  },
  {
   "cell_type": "code",
   "execution_count": null,
   "metadata": {
    "collapsed": true
   },
   "outputs": [],
   "source": []
  }
 ],
 "metadata": {
  "kernelspec": {
   "display_name": "Python 2",
   "language": "python",
   "name": "python2"
  },
  "language_info": {
   "codemirror_mode": {
    "name": "ipython",
    "version": 2
   },
   "file_extension": ".py",
   "mimetype": "text/x-python",
   "name": "python",
   "nbconvert_exporter": "python",
   "pygments_lexer": "ipython2",
   "version": "2.7.13"
  }
 },
 "nbformat": 4,
 "nbformat_minor": 2
}
